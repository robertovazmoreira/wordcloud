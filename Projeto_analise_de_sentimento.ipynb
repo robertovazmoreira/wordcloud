{
  "nbformat": 4,
  "nbformat_minor": 0,
  "metadata": {
    "colab": {
      "provenance": [],
      "include_colab_link": true
    },
    "kernelspec": {
      "name": "python3",
      "display_name": "Python 3"
    },
    "language_info": {
      "name": "python"
    }
  },
  "cells": [
    {
      "cell_type": "markdown",
      "metadata": {
        "id": "view-in-github",
        "colab_type": "text"
      },
      "source": [
        "<a href=\"https://colab.research.google.com/github/robertovazmoreira/wordcloud/blob/main/Projeto_analise_de_sentimento.ipynb\" target=\"_parent\"><img src=\"https://colab.research.google.com/assets/colab-badge.svg\" alt=\"Open In Colab\"/></a>"
      ]
    },
    {
      "cell_type": "markdown",
      "source": [
        "## Vamos a instalar a biblioteca"
      ],
      "metadata": {
        "id": "yMUKRj49NAtl"
      }
    },
    {
      "cell_type": "code",
      "execution_count": 20,
      "metadata": {
        "colab": {
          "base_uri": "https://localhost:8080/"
        },
        "id": "y4wrQEiTJj6i",
        "outputId": "3ed6793a-e332-4c47-a5f6-b6e332a0846a"
      },
      "outputs": [
        {
          "output_type": "stream",
          "name": "stdout",
          "text": [
            "Requirement already satisfied: googletrans==3.1.0a0 in /usr/local/lib/python3.10/dist-packages (3.1.0a0)\n",
            "Requirement already satisfied: httpx==0.13.3 in /usr/local/lib/python3.10/dist-packages (from googletrans==3.1.0a0) (0.13.3)\n",
            "Requirement already satisfied: certifi in /usr/local/lib/python3.10/dist-packages (from httpx==0.13.3->googletrans==3.1.0a0) (2023.11.17)\n",
            "Requirement already satisfied: hstspreload in /usr/local/lib/python3.10/dist-packages (from httpx==0.13.3->googletrans==3.1.0a0) (2023.1.1)\n",
            "Requirement already satisfied: sniffio in /usr/local/lib/python3.10/dist-packages (from httpx==0.13.3->googletrans==3.1.0a0) (1.3.0)\n",
            "Requirement already satisfied: chardet==3.* in /usr/local/lib/python3.10/dist-packages (from httpx==0.13.3->googletrans==3.1.0a0) (3.0.4)\n",
            "Requirement already satisfied: idna==2.* in /usr/local/lib/python3.10/dist-packages (from httpx==0.13.3->googletrans==3.1.0a0) (2.10)\n",
            "Requirement already satisfied: rfc3986<2,>=1.3 in /usr/local/lib/python3.10/dist-packages (from httpx==0.13.3->googletrans==3.1.0a0) (1.5.0)\n",
            "Requirement already satisfied: httpcore==0.9.* in /usr/local/lib/python3.10/dist-packages (from httpx==0.13.3->googletrans==3.1.0a0) (0.9.1)\n",
            "Requirement already satisfied: h11<0.10,>=0.8 in /usr/local/lib/python3.10/dist-packages (from httpcore==0.9.*->httpx==0.13.3->googletrans==3.1.0a0) (0.9.0)\n",
            "Requirement already satisfied: h2==3.* in /usr/local/lib/python3.10/dist-packages (from httpcore==0.9.*->httpx==0.13.3->googletrans==3.1.0a0) (3.2.0)\n",
            "Requirement already satisfied: hyperframe<6,>=5.2.0 in /usr/local/lib/python3.10/dist-packages (from h2==3.*->httpcore==0.9.*->httpx==0.13.3->googletrans==3.1.0a0) (5.2.0)\n",
            "Requirement already satisfied: hpack<4,>=3.0 in /usr/local/lib/python3.10/dist-packages (from h2==3.*->httpcore==0.9.*->httpx==0.13.3->googletrans==3.1.0a0) (3.0.0)\n"
          ]
        }
      ],
      "source": [
        "!pip install googletrans==3.1.0a0"
      ]
    },
    {
      "cell_type": "markdown",
      "source": [
        "## Vamos  traduzir"
      ],
      "metadata": {
        "id": "YalgQOmJNF7j"
      }
    },
    {
      "cell_type": "code",
      "source": [
        "from googletrans import Translator\n",
        "\n",
        "frase = \"eu gosto mais ou menos de programar\"\n",
        "\n",
        "tradutor = Translator()\n",
        "traducao = tradutor.translate(frase, src='pt', dest='en')\n",
        "\n",
        "print(traducao.text)"
      ],
      "metadata": {
        "colab": {
          "base_uri": "https://localhost:8080/"
        },
        "id": "9lnduyKPJkn1",
        "outputId": "61429ea8-d431-43cb-e3af-18957ad5db31"
      },
      "execution_count": 21,
      "outputs": [
        {
          "output_type": "stream",
          "name": "stdout",
          "text": [
            "I more or less like programming\n"
          ]
        }
      ]
    },
    {
      "cell_type": "code",
      "source": [
        "frasetraduzida=(traducao.text)"
      ],
      "metadata": {
        "id": "igf9ND9ZJtbD"
      },
      "execution_count": 22,
      "outputs": []
    },
    {
      "cell_type": "code",
      "source": [
        "frasetraduzida"
      ],
      "metadata": {
        "colab": {
          "base_uri": "https://localhost:8080/",
          "height": 36
        },
        "id": "hudBRce3LZ7v",
        "outputId": "43f9de16-6062-4746-8f1d-9a71df35bb4f"
      },
      "execution_count": 23,
      "outputs": [
        {
          "output_type": "execute_result",
          "data": {
            "text/plain": [
              "'I more or less like programming'"
            ],
            "application/vnd.google.colaboratory.intrinsic+json": {
              "type": "string"
            }
          },
          "metadata": {},
          "execution_count": 23
        }
      ]
    },
    {
      "cell_type": "markdown",
      "source": [
        "##Bibliotecas de Analise de sentimentos"
      ],
      "metadata": {
        "id": "MwFjS7R9OsNs"
      }
    },
    {
      "cell_type": "markdown",
      "source": [
        "##NLTK (Natural Language Toolkit): O NLTK é uma biblioteca amplamente utilizada em PLN. Ele oferece várias ferramentas e recursos para tarefas de processamento de texto, incluindo a análise de sentimentos. Você pode usar os recursos do NLTK para pré-processar o texto, treinar modelos de classificação e realizar a análise de sentimentos. Exemplo de código:"
      ],
      "metadata": {
        "id": "Nb9Cuj4xOYT0"
      }
    },
    {
      "cell_type": "code",
      "source": [
        "import nltk\n",
        "nltk.download('vader_lexicon')"
      ],
      "metadata": {
        "colab": {
          "base_uri": "https://localhost:8080/"
        },
        "id": "rh4QcsLWOyeE",
        "outputId": "0ad4f897-07c9-4b13-b975-6285a4b365a9"
      },
      "execution_count": 24,
      "outputs": [
        {
          "output_type": "stream",
          "name": "stderr",
          "text": [
            "[nltk_data] Downloading package vader_lexicon to /root/nltk_data...\n",
            "[nltk_data]   Package vader_lexicon is already up-to-date!\n"
          ]
        },
        {
          "output_type": "execute_result",
          "data": {
            "text/plain": [
              "True"
            ]
          },
          "metadata": {},
          "execution_count": 24
        }
      ]
    },
    {
      "cell_type": "code",
      "source": [
        "import nltk\n",
        "from nltk.sentiment import SentimentIntensityAnalyzer\n",
        "\n",
        "\n",
        "sia = SentimentIntensityAnalyzer()\n",
        "sentimento = sia.polarity_scores(frasetraduzida)\n",
        "\n",
        "if sentimento['compound'] >= 0.05:\n",
        "    print(\"Sentimento: Positivo\")\n",
        "elif sentimento['compound'] <= -0.05:\n",
        "    print(\"Sentimento: Negativo\")\n",
        "else:\n",
        "    print(\"Sentimento: Neutro\")"
      ],
      "metadata": {
        "colab": {
          "base_uri": "https://localhost:8080/"
        },
        "id": "UXZspb1PMHWK",
        "outputId": "515f9d78-8e2b-45cd-e246-3265f0386c29"
      },
      "execution_count": 25,
      "outputs": [
        {
          "output_type": "stream",
          "name": "stdout",
          "text": [
            "Sentimento: Positivo\n"
          ]
        }
      ]
    },
    {
      "cell_type": "code",
      "source": [
        "sentimento"
      ],
      "metadata": {
        "colab": {
          "base_uri": "https://localhost:8080/"
        },
        "id": "rHpXGhsRQgrc",
        "outputId": "e14389ec-ea98-4e36-e853-b955f27cea1c"
      },
      "execution_count": 26,
      "outputs": [
        {
          "output_type": "execute_result",
          "data": {
            "text/plain": [
              "{'neg': 0.0, 'neu': 0.618, 'pos': 0.382, 'compound': 0.355}"
            ]
          },
          "metadata": {},
          "execution_count": 26
        }
      ]
    },
    {
      "cell_type": "markdown",
      "source": [
        "##TextBlob: O TextBlob é uma biblioteca amigável para processamento de texto, que oferece uma interface simples para realizar a análise de sentimentos. Ele utiliza um conjunto pré-treinado de polaridades de palavras e regras heurísticas para determinar a polaridade do texto."
      ],
      "metadata": {
        "id": "4yoOPossPPyN"
      }
    },
    {
      "cell_type": "code",
      "source": [
        "from textblob import TextBlob\n",
        "\n",
        "\n",
        "\n",
        "blob = TextBlob(frasetraduzida)\n",
        "sentimento = blob.sentiment.polarity\n",
        "\n",
        "if sentimento > 0:\n",
        "    print(\"Sentimento: Positivo\")\n",
        "elif sentimento < 0:\n",
        "    print(\"Sentimento: Negativo\")\n",
        "else:\n",
        "    print(\"Sentimento: Neutro\")"
      ],
      "metadata": {
        "colab": {
          "base_uri": "https://localhost:8080/"
        },
        "id": "gJq3tuLAPfqr",
        "outputId": "30eee432-c212-48d5-c7df-0336ec29c762"
      },
      "execution_count": 27,
      "outputs": [
        {
          "output_type": "stream",
          "name": "stdout",
          "text": [
            "Sentimento: Positivo\n"
          ]
        }
      ]
    },
    {
      "cell_type": "code",
      "source": [
        "sentimento"
      ],
      "metadata": {
        "colab": {
          "base_uri": "https://localhost:8080/"
        },
        "id": "Nw7uGtn0QXwc",
        "outputId": "0853beae-aa83-4e86-bbec-0199b84ad298"
      },
      "execution_count": 28,
      "outputs": [
        {
          "output_type": "execute_result",
          "data": {
            "text/plain": [
              "0.16666666666666669"
            ]
          },
          "metadata": {},
          "execution_count": 28
        }
      ]
    },
    {
      "cell_type": "markdown",
      "source": [
        "##VADER (Valence Aware Dictionary and sEntiment Reasoner): O VADER é um analisador de sentimentos específico, desenvolvido para lidar com o contexto de mídias sociais. Ele atribui pontuações de sentimentos a palavras e frases com base em um dicionário pré-construído. Exemplo de código:"
      ],
      "metadata": {
        "id": "n93WUI_QP9KU"
      }
    },
    {
      "cell_type": "code",
      "source": [
        "from nltk.sentiment import SentimentIntensityAnalyzer\n",
        "\n",
        "\n",
        "\n",
        "sia = SentimentIntensityAnalyzer()\n",
        "sentimento = sia.polarity_scores(frasetraduzida)\n",
        "\n",
        "if sentimento['compound'] >= 0.05:\n",
        "    print(\"Sentimento: Positivo\")\n",
        "elif sentimento['compound'] <= -0.05:\n",
        "    print(\"Sentimento: Negativo\")\n",
        "else:\n",
        "    print(\"Sentimento: Neutro\")"
      ],
      "metadata": {
        "colab": {
          "base_uri": "https://localhost:8080/"
        },
        "id": "vKu4tdSkP1lI",
        "outputId": "ad99bdc0-45d4-4027-e46d-96d062ca73c2"
      },
      "execution_count": 29,
      "outputs": [
        {
          "output_type": "stream",
          "name": "stdout",
          "text": [
            "Sentimento: Positivo\n"
          ]
        }
      ]
    },
    {
      "cell_type": "code",
      "source": [
        "sentimento"
      ],
      "metadata": {
        "colab": {
          "base_uri": "https://localhost:8080/"
        },
        "id": "eEPi-3LyQKRe",
        "outputId": "9d018ce2-22b5-4933-8bb8-bbad44f41b55"
      },
      "execution_count": 30,
      "outputs": [
        {
          "output_type": "execute_result",
          "data": {
            "text/plain": [
              "{'neg': 0.0, 'neu': 0.618, 'pos': 0.382, 'compound': 0.355}"
            ]
          },
          "metadata": {},
          "execution_count": 30
        }
      ]
    },
    {
      "cell_type": "code",
      "source": [],
      "metadata": {
        "id": "SwK_UV0oQeNV"
      },
      "execution_count": 30,
      "outputs": []
    }
  ]
}