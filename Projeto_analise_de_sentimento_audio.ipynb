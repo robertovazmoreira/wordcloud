{
  "nbformat": 4,
  "nbformat_minor": 0,
  "metadata": {
    "colab": {
      "provenance": [],
      "include_colab_link": true
    },
    "kernelspec": {
      "name": "python3",
      "display_name": "Python 3"
    },
    "language_info": {
      "name": "python"
    }
  },
  "cells": [
    {
      "cell_type": "markdown",
      "metadata": {
        "id": "view-in-github",
        "colab_type": "text"
      },
      "source": [
        "<a href=\"https://colab.research.google.com/github/robertovazmoreira/wordcloud/blob/Analise-Sentimento/Projeto_analise_de_sentimento_audio.ipynb\" target=\"_parent\"><img src=\"https://colab.research.google.com/assets/colab-badge.svg\" alt=\"Open In Colab\"/></a>"
      ]
    },
    {
      "cell_type": "markdown",
      "source": [
        "## Vamos a instalar a biblioteca"
      ],
      "metadata": {
        "id": "yMUKRj49NAtl"
      }
    },
    {
      "cell_type": "code",
      "source": [
        "!pip install SpeechRecognition"
      ],
      "metadata": {
        "colab": {
          "base_uri": "https://localhost:8080/"
        },
        "id": "dd7sO2F0Ut2c",
        "outputId": "72b97a8e-e878-4bde-b4b6-4fa0172ba806"
      },
      "execution_count": 16,
      "outputs": [
        {
          "output_type": "stream",
          "name": "stdout",
          "text": [
            "Requirement already satisfied: SpeechRecognition in /usr/local/lib/python3.10/dist-packages (3.10.0)\n",
            "Requirement already satisfied: requests>=2.26.0 in /usr/local/lib/python3.10/dist-packages (from SpeechRecognition) (2.31.0)\n",
            "Requirement already satisfied: charset-normalizer<4,>=2 in /usr/local/lib/python3.10/dist-packages (from requests>=2.26.0->SpeechRecognition) (3.3.2)\n",
            "Requirement already satisfied: idna<4,>=2.5 in /usr/local/lib/python3.10/dist-packages (from requests>=2.26.0->SpeechRecognition) (2.10)\n",
            "Requirement already satisfied: urllib3<3,>=1.21.1 in /usr/local/lib/python3.10/dist-packages (from requests>=2.26.0->SpeechRecognition) (2.0.7)\n",
            "Requirement already satisfied: certifi>=2017.4.17 in /usr/local/lib/python3.10/dist-packages (from requests>=2.26.0->SpeechRecognition) (2023.11.17)\n"
          ]
        }
      ]
    },
    {
      "cell_type": "code",
      "source": [
        "import speech_recognition as sr\n",
        "\n",
        "# Crie uma instância do Recognizer\n",
        "r = sr.Recognizer()\n",
        "\n",
        "# Carregue o arquivo de áudio\n",
        "arquivo_audio = \"negativo.wav\"\n",
        "with sr.AudioFile(arquivo_audio) as source:\n",
        "    # Leitura do áudio\n",
        "    audio = r.record(source)\n",
        "\n",
        "    try:\n",
        "        # Use o reconhecimento de fala do Google\n",
        "        texto = r.recognize_google(audio, language=\"pt-BR\")\n",
        "        print(\"Texto reconhecido: \" + texto)\n",
        "    except sr.UnknownValueError:\n",
        "        print(\"Não foi possível reconhecer o áudio\")\n",
        "    except sr.RequestError as e:\n",
        "        print(\"Erro ao processar a requisição: \" + str(e))"
      ],
      "metadata": {
        "colab": {
          "base_uri": "https://localhost:8080/"
        },
        "id": "LIcKWSA3VPbk",
        "outputId": "c62809ad-c8d6-4ae6-97ea-1ba694e0044c"
      },
      "execution_count": 17,
      "outputs": [
        {
          "output_type": "stream",
          "name": "stdout",
          "text": [
            "Texto reconhecido: eu achei seu trabalho muito fraco acho que não tem condições de aprovar a dis\n"
          ]
        }
      ]
    },
    {
      "cell_type": "code",
      "source": [
        "frase=(texto)"
      ],
      "metadata": {
        "id": "mPA9TkNlXXYM"
      },
      "execution_count": 18,
      "outputs": []
    },
    {
      "cell_type": "code",
      "source": [
        "frase"
      ],
      "metadata": {
        "colab": {
          "base_uri": "https://localhost:8080/",
          "height": 36
        },
        "id": "zuL4kIN2Xu-U",
        "outputId": "e6bb62c0-8c99-4d2e-9674-196dd8d24e78"
      },
      "execution_count": 19,
      "outputs": [
        {
          "output_type": "execute_result",
          "data": {
            "text/plain": [
              "'eu achei seu trabalho muito fraco acho que não tem condições de aprovar a dis'"
            ],
            "application/vnd.google.colaboratory.intrinsic+json": {
              "type": "string"
            }
          },
          "metadata": {},
          "execution_count": 19
        }
      ]
    },
    {
      "cell_type": "code",
      "execution_count": 20,
      "metadata": {
        "colab": {
          "base_uri": "https://localhost:8080/"
        },
        "id": "y4wrQEiTJj6i",
        "outputId": "02ce5583-9cc4-4396-c0ff-4f00d7a09569"
      },
      "outputs": [
        {
          "output_type": "stream",
          "name": "stdout",
          "text": [
            "Requirement already satisfied: googletrans==3.1.0a0 in /usr/local/lib/python3.10/dist-packages (3.1.0a0)\n",
            "Requirement already satisfied: httpx==0.13.3 in /usr/local/lib/python3.10/dist-packages (from googletrans==3.1.0a0) (0.13.3)\n",
            "Requirement already satisfied: certifi in /usr/local/lib/python3.10/dist-packages (from httpx==0.13.3->googletrans==3.1.0a0) (2023.11.17)\n",
            "Requirement already satisfied: hstspreload in /usr/local/lib/python3.10/dist-packages (from httpx==0.13.3->googletrans==3.1.0a0) (2023.1.1)\n",
            "Requirement already satisfied: sniffio in /usr/local/lib/python3.10/dist-packages (from httpx==0.13.3->googletrans==3.1.0a0) (1.3.0)\n",
            "Requirement already satisfied: chardet==3.* in /usr/local/lib/python3.10/dist-packages (from httpx==0.13.3->googletrans==3.1.0a0) (3.0.4)\n",
            "Requirement already satisfied: idna==2.* in /usr/local/lib/python3.10/dist-packages (from httpx==0.13.3->googletrans==3.1.0a0) (2.10)\n",
            "Requirement already satisfied: rfc3986<2,>=1.3 in /usr/local/lib/python3.10/dist-packages (from httpx==0.13.3->googletrans==3.1.0a0) (1.5.0)\n",
            "Requirement already satisfied: httpcore==0.9.* in /usr/local/lib/python3.10/dist-packages (from httpx==0.13.3->googletrans==3.1.0a0) (0.9.1)\n",
            "Requirement already satisfied: h11<0.10,>=0.8 in /usr/local/lib/python3.10/dist-packages (from httpcore==0.9.*->httpx==0.13.3->googletrans==3.1.0a0) (0.9.0)\n",
            "Requirement already satisfied: h2==3.* in /usr/local/lib/python3.10/dist-packages (from httpcore==0.9.*->httpx==0.13.3->googletrans==3.1.0a0) (3.2.0)\n",
            "Requirement already satisfied: hyperframe<6,>=5.2.0 in /usr/local/lib/python3.10/dist-packages (from h2==3.*->httpcore==0.9.*->httpx==0.13.3->googletrans==3.1.0a0) (5.2.0)\n",
            "Requirement already satisfied: hpack<4,>=3.0 in /usr/local/lib/python3.10/dist-packages (from h2==3.*->httpcore==0.9.*->httpx==0.13.3->googletrans==3.1.0a0) (3.0.0)\n"
          ]
        }
      ],
      "source": [
        "!pip install googletrans==3.1.0a0"
      ]
    },
    {
      "cell_type": "markdown",
      "source": [
        "## Vamos  traduzir"
      ],
      "metadata": {
        "id": "YalgQOmJNF7j"
      }
    },
    {
      "cell_type": "code",
      "source": [
        "from googletrans import Translator\n",
        "\n",
        "\n",
        "\n",
        "tradutor = Translator()\n",
        "traducao = tradutor.translate(frase, src='pt', dest='en')\n",
        "\n",
        "print(traducao.text)"
      ],
      "metadata": {
        "colab": {
          "base_uri": "https://localhost:8080/"
        },
        "id": "9lnduyKPJkn1",
        "outputId": "fbd2a011-3669-4a09-c387-348090c0bebf"
      },
      "execution_count": 21,
      "outputs": [
        {
          "output_type": "stream",
          "name": "stdout",
          "text": [
            "I found your work very weak, I don't think you are in a position to approve the dis\n"
          ]
        }
      ]
    },
    {
      "cell_type": "code",
      "source": [
        "frasetraduzida=(traducao.text)"
      ],
      "metadata": {
        "id": "igf9ND9ZJtbD"
      },
      "execution_count": 22,
      "outputs": []
    },
    {
      "cell_type": "code",
      "source": [
        "frasetraduzida"
      ],
      "metadata": {
        "colab": {
          "base_uri": "https://localhost:8080/",
          "height": 36
        },
        "id": "hudBRce3LZ7v",
        "outputId": "0bac8ace-39b3-4176-a7b3-b0927ef8b2fd"
      },
      "execution_count": 23,
      "outputs": [
        {
          "output_type": "execute_result",
          "data": {
            "text/plain": [
              "\"I found your work very weak, I don't think you are in a position to approve the dis\""
            ],
            "application/vnd.google.colaboratory.intrinsic+json": {
              "type": "string"
            }
          },
          "metadata": {},
          "execution_count": 23
        }
      ]
    },
    {
      "cell_type": "markdown",
      "source": [
        "##Bibliotecas de Analise de sentimentos"
      ],
      "metadata": {
        "id": "MwFjS7R9OsNs"
      }
    },
    {
      "cell_type": "markdown",
      "source": [
        "##NLTK (Natural Language Toolkit): O NLTK é uma biblioteca amplamente utilizada em PLN. Ele oferece várias ferramentas e recursos para tarefas de processamento de texto, incluindo a análise de sentimentos. Você pode usar os recursos do NLTK para pré-processar o texto, treinar modelos de classificação e realizar a análise de sentimentos. Exemplo de código:"
      ],
      "metadata": {
        "id": "Nb9Cuj4xOYT0"
      }
    },
    {
      "cell_type": "code",
      "source": [
        "import nltk\n",
        "nltk.download('vader_lexicon')"
      ],
      "metadata": {
        "colab": {
          "base_uri": "https://localhost:8080/"
        },
        "id": "rh4QcsLWOyeE",
        "outputId": "aede2cee-9831-4d7c-aa95-a7ec7f920ba9"
      },
      "execution_count": 24,
      "outputs": [
        {
          "output_type": "stream",
          "name": "stderr",
          "text": [
            "[nltk_data] Downloading package vader_lexicon to /root/nltk_data...\n",
            "[nltk_data]   Package vader_lexicon is already up-to-date!\n"
          ]
        },
        {
          "output_type": "execute_result",
          "data": {
            "text/plain": [
              "True"
            ]
          },
          "metadata": {},
          "execution_count": 24
        }
      ]
    },
    {
      "cell_type": "code",
      "source": [
        "import nltk\n",
        "from nltk.sentiment import SentimentIntensityAnalyzer\n",
        "\n",
        "\n",
        "sia = SentimentIntensityAnalyzer()\n",
        "sentimento = sia.polarity_scores(frasetraduzida)\n",
        "\n",
        "if sentimento['compound'] >= 0.05:\n",
        "    print(\"Sentimento: Positivo\")\n",
        "elif sentimento['compound'] <= -0.05:\n",
        "    print(\"Sentimento: Negativo\")\n",
        "else:\n",
        "    print(\"Sentimento: Neutro\")"
      ],
      "metadata": {
        "colab": {
          "base_uri": "https://localhost:8080/"
        },
        "id": "UXZspb1PMHWK",
        "outputId": "e25a8d6a-44c7-4e57-feb0-c0881855d20f"
      },
      "execution_count": 25,
      "outputs": [
        {
          "output_type": "stream",
          "name": "stdout",
          "text": [
            "Sentimento: Negativo\n"
          ]
        }
      ]
    },
    {
      "cell_type": "code",
      "source": [
        "sentimento"
      ],
      "metadata": {
        "colab": {
          "base_uri": "https://localhost:8080/"
        },
        "id": "rHpXGhsRQgrc",
        "outputId": "44879235-4665-4420-b0e7-8fd13942e1b3"
      },
      "execution_count": 26,
      "outputs": [
        {
          "output_type": "execute_result",
          "data": {
            "text/plain": [
              "{'neg': 0.186, 'neu': 0.814, 'pos': 0.0, 'compound': -0.4927}"
            ]
          },
          "metadata": {},
          "execution_count": 26
        }
      ]
    },
    {
      "cell_type": "markdown",
      "source": [
        "##TextBlob: O TextBlob é uma biblioteca amigável para processamento de texto, que oferece uma interface simples para realizar a análise de sentimentos. Ele utiliza um conjunto pré-treinado de polaridades de palavras e regras heurísticas para determinar a polaridade do texto."
      ],
      "metadata": {
        "id": "4yoOPossPPyN"
      }
    },
    {
      "cell_type": "code",
      "source": [
        "from textblob import TextBlob\n",
        "\n",
        "\n",
        "\n",
        "blob = TextBlob(frasetraduzida)\n",
        "sentimento = blob.sentiment.polarity\n",
        "\n",
        "if sentimento > 0:\n",
        "    print(\"Sentimento: Positivo\")\n",
        "elif sentimento < 0:\n",
        "    print(\"Sentimento: Negativo\")\n",
        "else:\n",
        "    print(\"Sentimento: Neutro\")"
      ],
      "metadata": {
        "colab": {
          "base_uri": "https://localhost:8080/"
        },
        "id": "gJq3tuLAPfqr",
        "outputId": "e1601266-292b-4333-fc65-ddaf84596e06"
      },
      "execution_count": 27,
      "outputs": [
        {
          "output_type": "stream",
          "name": "stdout",
          "text": [
            "Sentimento: Negativo\n"
          ]
        }
      ]
    },
    {
      "cell_type": "code",
      "source": [
        "sentimento"
      ],
      "metadata": {
        "colab": {
          "base_uri": "https://localhost:8080/"
        },
        "id": "Nw7uGtn0QXwc",
        "outputId": "3df37de2-3ed5-49fb-dbe6-31ae0b53e8b4"
      },
      "execution_count": 28,
      "outputs": [
        {
          "output_type": "execute_result",
          "data": {
            "text/plain": [
              "-0.48750000000000004"
            ]
          },
          "metadata": {},
          "execution_count": 28
        }
      ]
    },
    {
      "cell_type": "markdown",
      "source": [
        "##VADER (Valence Aware Dictionary and sEntiment Reasoner): O VADER é um analisador de sentimentos específico, desenvolvido para lidar com o contexto de mídias sociais. Ele atribui pontuações de sentimentos a palavras e frases com base em um dicionário pré-construído. Exemplo de código:"
      ],
      "metadata": {
        "id": "n93WUI_QP9KU"
      }
    },
    {
      "cell_type": "code",
      "source": [
        "from nltk.sentiment import SentimentIntensityAnalyzer\n",
        "\n",
        "\n",
        "\n",
        "sia = SentimentIntensityAnalyzer()\n",
        "sentimento = sia.polarity_scores(frasetraduzida)\n",
        "\n",
        "if sentimento['compound'] >= 0.05:\n",
        "    print(\"Sentimento: Positivo\")\n",
        "elif sentimento['compound'] <= -0.05:\n",
        "    print(\"Sentimento: Negativo\")\n",
        "else:\n",
        "    print(\"Sentimento: Neutro\")"
      ],
      "metadata": {
        "colab": {
          "base_uri": "https://localhost:8080/"
        },
        "id": "vKu4tdSkP1lI",
        "outputId": "9db5a2df-76ed-489a-9e5e-610fb3d7b7ae"
      },
      "execution_count": 29,
      "outputs": [
        {
          "output_type": "stream",
          "name": "stdout",
          "text": [
            "Sentimento: Negativo\n"
          ]
        }
      ]
    },
    {
      "cell_type": "code",
      "source": [
        "sentimento"
      ],
      "metadata": {
        "colab": {
          "base_uri": "https://localhost:8080/"
        },
        "id": "eEPi-3LyQKRe",
        "outputId": "7ca19ab0-24f4-4b61-b01d-3f13cb455767"
      },
      "execution_count": 30,
      "outputs": [
        {
          "output_type": "execute_result",
          "data": {
            "text/plain": [
              "{'neg': 0.186, 'neu': 0.814, 'pos': 0.0, 'compound': -0.4927}"
            ]
          },
          "metadata": {},
          "execution_count": 30
        }
      ]
    }
  ]
}